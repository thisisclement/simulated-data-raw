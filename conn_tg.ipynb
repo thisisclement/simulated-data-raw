{
 "cells": [
  {
   "cell_type": "code",
   "execution_count": 3,
   "metadata": {},
   "outputs": [],
   "source": [
    "import pyTigerGraph as tg\n",
    "import requests\n",
    "import json"
   ]
  },
  {
   "cell_type": "code",
   "execution_count": 4,
   "metadata": {},
   "outputs": [],
   "source": [
    "conn = tg.TigerGraphConnection(host=\"https://pokeapitest.i.tgcloud.io/\", password=\"hello123\", gsqlVersion=\"3.0.5\", useCert=True)\n"
   ]
  },
  {
   "cell_type": "code",
   "execution_count": 9,
   "metadata": {},
   "outputs": [
    {
     "name": "stdout",
     "output_type": "stream",
     "text": [
      "---- Global vertices, edges, and all graphs\n",
      "Vertex Types:\n",
      "- VERTEX Pokemon(PRIMARY_ID name STRING) WITH STATS=\"OUTDEGREE_BY_EDGETYPE\", PRIMARY_ID_AS_ATTRIBUTE=\"true\"\n",
      "- VERTEX Type(PRIMARY_ID type STRING) WITH STATS=\"OUTDEGREE_BY_EDGETYPE\", PRIMARY_ID_AS_ATTRIBUTE=\"true\"\n",
      "Edge Types:\n",
      "- UNDIRECTED EDGE POKEMON_TYPE(FROM Pokemon, TO Type)\n",
      "\n",
      "Graphs:\n",
      "- Graph pokemon(Pokemon:v, Type:v, POKEMON_TYPE:e)\n",
      "- Graph fraudDetection()\n",
      "Jobs:\n",
      "\n",
      "\n",
      "JSON API version: v2\n",
      "Syntax version: v1\n",
      "\n"
     ]
    }
   ],
   "source": [
    "print(conn.gsql('ls', options=[]))"
   ]
  },
  {
   "cell_type": "code",
   "execution_count": null,
   "metadata": {},
   "outputs": [],
   "source": []
  }
 ],
 "metadata": {
  "kernelspec": {
   "display_name": "Python 3",
   "language": "python",
   "name": "python3"
  },
  "language_info": {
   "codemirror_mode": {
    "name": "ipython",
    "version": 3
   },
   "file_extension": ".py",
   "mimetype": "text/x-python",
   "name": "python",
   "nbconvert_exporter": "python",
   "pygments_lexer": "ipython3",
   "version": "3.7.4"
  }
 },
 "nbformat": 4,
 "nbformat_minor": 4
}
